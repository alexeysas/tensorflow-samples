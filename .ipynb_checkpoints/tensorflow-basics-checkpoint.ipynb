{
 "cells": [
  {
   "cell_type": "code",
   "execution_count": 1,
   "metadata": {
    "collapsed": true
   },
   "outputs": [],
   "source": [
    "import tensorflow as tf"
   ]
  },
  {
   "cell_type": "code",
   "execution_count": 6,
   "metadata": {
    "collapsed": false
   },
   "outputs": [
    {
     "name": "stdout",
     "output_type": "stream",
     "text": [
      "b'Hello world ' [[3 2 1]\n",
      " [4 1 2]]\n"
     ]
    }
   ],
   "source": [
    "constant = tf.constant(\"Hello world \")\n",
    "multi_dim_const = tf.constant([[3, 2, 1], [4, 1, 2]])\n",
    "with tf.Session() as sess:\n",
    "    out, out2 = sess.run([constant, multi_dim_const])\n",
    "    print(out, out2)"
   ]
  },
  {
   "cell_type": "code",
   "execution_count": 9,
   "metadata": {
    "collapsed": false
   },
   "outputs": [
    {
     "name": "stdout",
     "output_type": "stream",
     "text": [
      "Hello from placehodler!\n"
     ]
    }
   ],
   "source": [
    "data = tf.placeholder(tf.string)\n",
    "\n",
    "with tf.Session() as sess:\n",
    "    out = sess.run(data, feed_dict ={ data: \"Hello from placehodler!\"})\n",
    "    print(out)"
   ]
  },
  {
   "cell_type": "code",
   "execution_count": 12,
   "metadata": {
    "collapsed": false
   },
   "outputs": [
    {
     "name": "stdout",
     "output_type": "stream",
     "text": [
      "3.0\n"
     ]
    }
   ],
   "source": [
    "a = tf.placeholder(tf.int32)\n",
    "b = tf.placeholder(tf.float32)\n",
    "\n",
    "c = tf.add(tf.cast(a, tf.float32), b)\n",
    "\n",
    "with tf.Session() as sess:\n",
    "    out = sess.run(c, feed_dict ={ a: 1.0, b: 2})\n",
    "    print(out)\n"
   ]
  },
  {
   "cell_type": "code",
   "execution_count": 21,
   "metadata": {
    "collapsed": false
   },
   "outputs": [
    {
     "name": "stdout",
     "output_type": "stream",
     "text": [
      "[[-2.74479914 -4.15611267 -3.55642605 -5.06371498  2.5759542 ]]\n"
     ]
    }
   ],
   "source": [
    "import numpy as np\n",
    "\n",
    "n_features = 5\n",
    "n_labels = 5\n",
    "\n",
    "x = tf.placeholder(tf.float32, shape=(1, n_features))\n",
    "\n",
    "W = tf.Variable(tf.truncated_normal([n_features, n_labels]))\n",
    "b = tf.Variable(tf.zeros(n_labels))\n",
    "\n",
    "res =  tf.add(tf.matmul(x, W), b)\n",
    "\n",
    "initializer = tf.global_variables_initializer()\n",
    "\n",
    "\n",
    "with tf.Session() as sess:\n",
    "    sess.run(initializer)\n",
    "    res_data = sess.run(res, feed_dict={ x: np.array([1, 2, 3, 4, 5]).reshape(1, 5) })\n",
    "    print(res_data)"
   ]
  },
  {
   "cell_type": "code",
   "execution_count": 23,
   "metadata": {
    "collapsed": false
   },
   "outputs": [
    {
     "name": "stdout",
     "output_type": "stream",
     "text": [
      "Successfully downloaded train-images-idx3-ubyte.gz 9912422 bytes.\n",
      "Extracting MNIST_data/train-images-idx3-ubyte.gz\n",
      "Successfully downloaded train-labels-idx1-ubyte.gz 28881 bytes.\n",
      "Extracting MNIST_data/train-labels-idx1-ubyte.gz\n",
      "Successfully downloaded t10k-images-idx3-ubyte.gz 1648877 bytes.\n",
      "Extracting MNIST_data/t10k-images-idx3-ubyte.gz\n",
      "Successfully downloaded t10k-labels-idx1-ubyte.gz 4542 bytes.\n",
      "Extracting MNIST_data/t10k-labels-idx1-ubyte.gz\n"
     ]
    }
   ],
   "source": [
    "from tensorflow.examples.tutorials.mnist import input_data\n",
    "mnist = input_data.read_data_sets(\"MNIST_data/\", one_hot=True)"
   ]
  },
  {
   "cell_type": "code",
   "execution_count": null,
   "metadata": {
    "collapsed": true
   },
   "outputs": [],
   "source": [
    "n_features = 784\n",
    "n_labels = 10\n",
    "\n",
    "x = tf.placeholder(tf.float32, [None, n_features])\n",
    "\n",
    "W = tf.Variable(tf.truncated_normal([n_features, n_labels]))\n",
    "b = tf.Variable(tf.zeros(n_labels))"
   ]
  }
 ],
 "metadata": {
  "kernelspec": {
   "display_name": "Trnsorflow 64",
   "language": "python",
   "name": "tensorflow_64"
  },
  "language_info": {
   "codemirror_mode": {
    "name": "ipython",
    "version": 3
   },
   "file_extension": ".py",
   "mimetype": "text/x-python",
   "name": "python",
   "nbconvert_exporter": "python",
   "pygments_lexer": "ipython3",
   "version": "3.5.3"
  }
 },
 "nbformat": 4,
 "nbformat_minor": 2
}
